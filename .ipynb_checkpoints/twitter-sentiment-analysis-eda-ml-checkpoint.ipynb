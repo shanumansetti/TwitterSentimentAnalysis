{
 "cells": [
  {
   "cell_type": "markdown",
   "id": "e1dd09cd",
   "metadata": {
    "papermill": {
     "duration": 0.013207,
     "end_time": "2024-06-21T19:08:22.630301",
     "exception": false,
     "start_time": "2024-06-21T19:08:22.617094",
     "status": "completed"
    },
    "tags": []
   },
   "source": [
    " <center><img src='https://miro.medium.com/v2/resize:fit:1280/1*TxNDsw1op7sxikKd6Sk08w.gif' \n",
    "     height=100px width=400px /></center> "
   ]
  },
  {
   "metadata": {},
   "cell_type": "markdown",
   "source": [
    "**Introduction**  \n",
    "Twitter is a popular social media platform where users share their thoughts, opinions, and emotions in the form of tweets. However, a significant issue has emerged: the misuse of the platform for spreading harmful or hateful content. To address this challenge, Twitter seeks to develop an effective Natural Language Processing (NLP)-based classifier that can detect and filter negative sentiments, preventing their widespread dissemination.  \n",
    "\n",
    "The dataset consists of tweet text paired with sentiment labels. Each entry in the training set includes a specific word or phrase (referred to as *selected_text*) that is extracted from the tweet, representing the sentiment conveyed. The task is to predict the word or phrase within the tweet that best captures the sentiment, accounting for all characters in that span, including punctuation, spaces, and special characters.\n",
    "\n",
    "**Dataset Structure**  \n",
    "- **textID**: A unique identifier for each tweet.  \n",
    "- **text**: The full content of the tweet.  \n",
    "- **sentiment**: The overall sentiment of the tweet (e.g., positive, negative, neutral).\n",
    "\n",
    "**Objective**  \n",
    "1. Understand and clean the dataset (if necessary).  \n",
    "2. Develop and train classification models to predict the sentiment of tweets.  \n",
    "3. Evaluate and compare the performance of various classification algorithms based on key metrics (e.g., accuracy, precision, recall, F1-score).\n",
    "\n",
    "The ultimate goal is to create a reliable system that can automatically identify and prevent the spread of negative content on Twitter, contributing to a healthier online environment."
   ],
   "id": "ff1b1929e9c33537"
  },
  {
   "cell_type": "markdown",
   "id": "ff106fbe",
   "metadata": {
    "papermill": {
     "duration": 0.012457,
     "end_time": "2024-06-21T19:08:22.707988",
     "exception": false,
     "start_time": "2024-06-21T19:08:22.695531",
     "status": "completed"
    },
    "tags": []
   },
   "source": [
    "<a id=\"toc\"></a>\n",
    "\n",
    "<a href=\"#toc\" style=\"background-color: #00a4f9; color: #ffffff; padding: 7px 10px; text-decoration: none; border-radius: 50px;\">Back to top</a>\n",
    "<h2 align=\"left\"><font color=#00a4f9>Importing the Libraries</font></h2>"
   ]
  },
  {
   "cell_type": "code",
   "id": "2663e762",
   "metadata": {
    "_kg_hide-input": true,
    "_kg_hide-output": true,
    "execution": {
     "iopub.execute_input": "2024-06-21T19:08:22.735726Z",
     "iopub.status.busy": "2024-06-21T19:08:22.735211Z",
     "iopub.status.idle": "2024-06-21T19:08:35.241896Z",
     "shell.execute_reply": "2024-06-21T19:08:35.240375Z"
    },
    "papermill": {
     "duration": 12.523723,
     "end_time": "2024-06-21T19:08:35.244564",
     "exception": false,
     "start_time": "2024-06-21T19:08:22.720841",
     "status": "completed"
    },
    "tags": [],
    "ExecuteTime": {
     "end_time": "2025-01-04T12:58:25.535179Z",
     "start_time": "2025-01-04T12:58:24.641191Z"
    }
   },
   "source": [
    "import wordcloud\n",
    "!pip install seaborn"
   ],
   "outputs": [
    {
     "name": "stdout",
     "output_type": "stream",
     "text": [
      "Requirement already satisfied: seaborn in ./.venv/lib/python3.9/site-packages (0.13.2)\r\n",
      "Requirement already satisfied: numpy!=1.24.0,>=1.20 in ./.venv/lib/python3.9/site-packages (from seaborn) (2.0.2)\r\n",
      "Requirement already satisfied: pandas>=1.2 in ./.venv/lib/python3.9/site-packages (from seaborn) (2.2.3)\r\n",
      "Requirement already satisfied: matplotlib!=3.6.1,>=3.4 in ./.venv/lib/python3.9/site-packages (from seaborn) (3.9.4)\r\n",
      "Requirement already satisfied: contourpy>=1.0.1 in ./.venv/lib/python3.9/site-packages (from matplotlib!=3.6.1,>=3.4->seaborn) (1.3.0)\r\n",
      "Requirement already satisfied: cycler>=0.10 in ./.venv/lib/python3.9/site-packages (from matplotlib!=3.6.1,>=3.4->seaborn) (0.12.1)\r\n",
      "Requirement already satisfied: fonttools>=4.22.0 in ./.venv/lib/python3.9/site-packages (from matplotlib!=3.6.1,>=3.4->seaborn) (4.55.3)\r\n",
      "Requirement already satisfied: kiwisolver>=1.3.1 in ./.venv/lib/python3.9/site-packages (from matplotlib!=3.6.1,>=3.4->seaborn) (1.4.7)\r\n",
      "Requirement already satisfied: packaging>=20.0 in ./.venv/lib/python3.9/site-packages (from matplotlib!=3.6.1,>=3.4->seaborn) (24.2)\r\n",
      "Requirement already satisfied: pillow>=8 in ./.venv/lib/python3.9/site-packages (from matplotlib!=3.6.1,>=3.4->seaborn) (11.1.0)\r\n",
      "Requirement already satisfied: pyparsing>=2.3.1 in ./.venv/lib/python3.9/site-packages (from matplotlib!=3.6.1,>=3.4->seaborn) (3.2.1)\r\n",
      "Requirement already satisfied: python-dateutil>=2.7 in ./.venv/lib/python3.9/site-packages (from matplotlib!=3.6.1,>=3.4->seaborn) (2.9.0.post0)\r\n",
      "Requirement already satisfied: importlib-resources>=3.2.0 in ./.venv/lib/python3.9/site-packages (from matplotlib!=3.6.1,>=3.4->seaborn) (6.5.2)\r\n",
      "Requirement already satisfied: pytz>=2020.1 in ./.venv/lib/python3.9/site-packages (from pandas>=1.2->seaborn) (2024.2)\r\n",
      "Requirement already satisfied: tzdata>=2022.7 in ./.venv/lib/python3.9/site-packages (from pandas>=1.2->seaborn) (2024.2)\r\n",
      "Requirement already satisfied: zipp>=3.1.0 in ./.venv/lib/python3.9/site-packages (from importlib-resources>=3.2.0->matplotlib!=3.6.1,>=3.4->seaborn) (3.21.0)\r\n",
      "Requirement already satisfied: six>=1.5 in ./.venv/lib/python3.9/site-packages (from python-dateutil>=2.7->matplotlib!=3.6.1,>=3.4->seaborn) (1.17.0)\r\n",
      "\r\n",
      "\u001B[1m[\u001B[0m\u001B[34;49mnotice\u001B[0m\u001B[1;39;49m]\u001B[0m\u001B[39;49m A new release of pip is available: \u001B[0m\u001B[31;49m23.2.1\u001B[0m\u001B[39;49m -> \u001B[0m\u001B[32;49m24.3.1\u001B[0m\r\n",
      "\u001B[1m[\u001B[0m\u001B[34;49mnotice\u001B[0m\u001B[1;39;49m]\u001B[0m\u001B[39;49m To update, run: \u001B[0m\u001B[32;49mpip install --upgrade pip\u001B[0m\r\n"
     ]
    }
   ],
   "execution_count": 13
  },
  {
   "cell_type": "code",
   "id": "eec253a9",
   "metadata": {
    "_kg_hide-input": true,
    "_kg_hide-output": true,
    "execution": {
     "iopub.execute_input": "2024-06-21T19:08:35.273966Z",
     "iopub.status.busy": "2024-06-21T19:08:35.273554Z",
     "iopub.status.idle": "2024-06-21T19:08:46.054004Z",
     "shell.execute_reply": "2024-06-21T19:08:46.052373Z"
    },
    "papermill": {
     "duration": 10.797708,
     "end_time": "2024-06-21T19:08:46.056303",
     "exception": false,
     "start_time": "2024-06-21T19:08:35.258595",
     "status": "completed"
    },
    "tags": [],
    "ExecuteTime": {
     "end_time": "2025-01-04T12:58:32.717196Z",
     "start_time": "2025-01-04T12:58:31.831484Z"
    }
   },
   "source": [
    "pip install nltk"
   ],
   "outputs": [
    {
     "name": "stdout",
     "output_type": "stream",
     "text": [
      "Requirement already satisfied: nltk in ./.venv/lib/python3.9/site-packages (3.9.1)\r\n",
      "Requirement already satisfied: click in ./.venv/lib/python3.9/site-packages (from nltk) (8.1.8)\r\n",
      "Requirement already satisfied: joblib in ./.venv/lib/python3.9/site-packages (from nltk) (1.4.2)\r\n",
      "Requirement already satisfied: regex>=2021.8.3 in ./.venv/lib/python3.9/site-packages (from nltk) (2024.11.6)\r\n",
      "Requirement already satisfied: tqdm in ./.venv/lib/python3.9/site-packages (from nltk) (4.67.1)\r\n",
      "\r\n",
      "\u001B[1m[\u001B[0m\u001B[34;49mnotice\u001B[0m\u001B[1;39;49m]\u001B[0m\u001B[39;49m A new release of pip is available: \u001B[0m\u001B[31;49m23.2.1\u001B[0m\u001B[39;49m -> \u001B[0m\u001B[32;49m24.3.1\u001B[0m\r\n",
      "\u001B[1m[\u001B[0m\u001B[34;49mnotice\u001B[0m\u001B[1;39;49m]\u001B[0m\u001B[39;49m To update, run: \u001B[0m\u001B[32;49mpip install --upgrade pip\u001B[0m\r\n",
      "Note: you may need to restart the kernel to use updated packages.\n"
     ]
    }
   ],
   "execution_count": 14
  },
  {
   "cell_type": "code",
   "id": "28f5f1ca",
   "metadata": {
    "_cell_guid": "b1076dfc-b9ad-4769-8c92-a6c4dae69d19",
    "_uuid": "8f2839f25d086af736a60e9eeb907d3b93b6e0e5",
    "execution": {
     "iopub.execute_input": "2024-06-21T19:08:46.085866Z",
     "iopub.status.busy": "2024-06-21T19:08:46.084731Z",
     "iopub.status.idle": "2024-06-21T19:08:48.677946Z",
     "shell.execute_reply": "2024-06-21T19:08:48.676997Z"
    },
    "papermill": {
     "duration": 2.610851,
     "end_time": "2024-06-21T19:08:48.680565",
     "exception": false,
     "start_time": "2024-06-21T19:08:46.069714",
     "status": "completed"
    },
    "tags": [],
    "ExecuteTime": {
     "end_time": "2025-01-04T12:57:16.516718Z",
     "start_time": "2025-01-04T12:57:16.498971Z"
    }
   },
   "source": [
    "import numpy as np\n",
    "import pandas as pd\n",
    "import seaborn as sns\n",
    "import matplotlib.pyplot as plt\n",
    "%matplotlib inline\n",
    "\n",
    "import nltk\n",
    "from sklearn.feature_extraction.text import TfidfVectorizer\n",
    "from sklearn.model_selection import train_test_split\n",
    "import string\n",
    "from tqdm import tqdm\n",
    "from multiprocessing import Pool\n",
    "from nltk.corpus import stopwords\n",
    "from nltk.stem.porter import PorterStemmer\n",
    "\n",
    "from sklearn.svm import SVC\n",
    "from sklearn.naive_bayes import BernoulliNB\n",
    "from sklearn.tree import DecisionTreeClassifier\n",
    "from sklearn.ensemble import RandomForestClassifier\n",
    "from sklearn.linear_model import LogisticRegression\n",
    "from sklearn.metrics import accuracy_score, confusion_matrix, classification_report, f1_score, \\\n",
    "roc_auc_score, roc_curve, precision_score, recall_score\n",
    "\n",
    "import warnings \n",
    "warnings.filterwarnings('ignore')"
   ],
   "outputs": [
    {
     "ename": "ModuleNotFoundError",
     "evalue": "No module named 'sklearn'",
     "output_type": "error",
     "traceback": [
      "\u001B[0;31m---------------------------------------------------------------------------\u001B[0m",
      "\u001B[0;31mModuleNotFoundError\u001B[0m                       Traceback (most recent call last)",
      "Cell \u001B[0;32mIn[11], line 8\u001B[0m\n\u001B[1;32m      5\u001B[0m get_ipython()\u001B[38;5;241m.\u001B[39mrun_line_magic(\u001B[38;5;124m'\u001B[39m\u001B[38;5;124mmatplotlib\u001B[39m\u001B[38;5;124m'\u001B[39m, \u001B[38;5;124m'\u001B[39m\u001B[38;5;124minline\u001B[39m\u001B[38;5;124m'\u001B[39m)\n\u001B[1;32m      7\u001B[0m \u001B[38;5;28;01mimport\u001B[39;00m \u001B[38;5;21;01mnltk\u001B[39;00m\n\u001B[0;32m----> 8\u001B[0m \u001B[38;5;28;01mfrom\u001B[39;00m \u001B[38;5;21;01msklearn\u001B[39;00m\u001B[38;5;21;01m.\u001B[39;00m\u001B[38;5;21;01mfeature_extraction\u001B[39;00m\u001B[38;5;21;01m.\u001B[39;00m\u001B[38;5;21;01mtext\u001B[39;00m \u001B[38;5;28;01mimport\u001B[39;00m TfidfVectorizer\n\u001B[1;32m      9\u001B[0m \u001B[38;5;28;01mfrom\u001B[39;00m \u001B[38;5;21;01msklearn\u001B[39;00m\u001B[38;5;21;01m.\u001B[39;00m\u001B[38;5;21;01mmodel_selection\u001B[39;00m \u001B[38;5;28;01mimport\u001B[39;00m train_test_split\n\u001B[1;32m     10\u001B[0m \u001B[38;5;28;01mimport\u001B[39;00m \u001B[38;5;21;01mstring\u001B[39;00m\n",
      "\u001B[0;31mModuleNotFoundError\u001B[0m: No module named 'sklearn'"
     ]
    }
   ],
   "execution_count": 11
  },
  {
   "cell_type": "code",
   "id": "e8bbf4fc",
   "metadata": {
    "execution": {
     "iopub.execute_input": "2024-06-21T19:08:48.710431Z",
     "iopub.status.busy": "2024-06-21T19:08:48.709360Z",
     "iopub.status.idle": "2024-06-21T19:08:48.886563Z",
     "shell.execute_reply": "2024-06-21T19:08:48.885485Z"
    },
    "papermill": {
     "duration": 0.194802,
     "end_time": "2024-06-21T19:08:48.889014",
     "exception": false,
     "start_time": "2024-06-21T19:08:48.694212",
     "status": "completed"
    },
    "tags": [],
    "ExecuteTime": {
     "end_time": "2025-01-04T12:57:16.519780Z",
     "start_time": "2025-01-04T12:57:16.519702Z"
    }
   },
   "source": [
    "# Loading the dataset \n",
    "df = pd.read_csv('/kaggle/input/twitter-tweets-sentiment-dataset/Tweets.csv')\n",
    "#Let's check the samples of data\n",
    "df.head()"
   ],
   "outputs": [],
   "execution_count": null
  },
  {
   "cell_type": "markdown",
   "id": "b63431da",
   "metadata": {
    "papermill": {
     "duration": 0.013785,
     "end_time": "2024-06-21T19:08:48.917013",
     "exception": false,
     "start_time": "2024-06-21T19:08:48.903228",
     "status": "completed"
    },
    "tags": []
   },
   "source": [
    "<a id=\"toc\"></a>\n",
    "\n",
    "<a href=\"#toc\" style=\"background-color: #009dff; color: #ffffff; padding: 7px 10px; text-decoration: none; border-radius: 50px;\">Back to top</a>\n",
    "<h2 align=\"left\"><font color=#00a4f9>Exploratory Data Analysis</font></h2>"
   ]
  },
  {
   "cell_type": "code",
   "id": "78735055",
   "metadata": {
    "execution": {
     "iopub.execute_input": "2024-06-21T19:08:48.946418Z",
     "iopub.status.busy": "2024-06-21T19:08:48.945539Z",
     "iopub.status.idle": "2024-06-21T19:08:48.963506Z",
     "shell.execute_reply": "2024-06-21T19:08:48.962433Z"
    },
    "papermill": {
     "duration": 0.034881,
     "end_time": "2024-06-21T19:08:48.965677",
     "exception": false,
     "start_time": "2024-06-21T19:08:48.930796",
     "status": "completed"
    },
    "tags": []
   },
   "source": [
    "#Let's drop selected text & text id column\n",
    "df.drop(['selected_text', 'textID'], axis=1, inplace=True)\n",
    "target = 'sentiment'\n",
    "df.reset_index(drop=True, inplace=True) #Resetting the index\n",
    "original_df = df.copy(deep=True)\n",
    "df.head()"
   ],
   "outputs": [],
   "execution_count": null
  },
  {
   "cell_type": "code",
   "id": "97bb2cd4",
   "metadata": {
    "execution": {
     "iopub.execute_input": "2024-06-21T19:08:48.995181Z",
     "iopub.status.busy": "2024-06-21T19:08:48.994819Z",
     "iopub.status.idle": "2024-06-21T19:08:49.025386Z",
     "shell.execute_reply": "2024-06-21T19:08:49.024154Z"
    },
    "papermill": {
     "duration": 0.048298,
     "end_time": "2024-06-21T19:08:49.027875",
     "exception": false,
     "start_time": "2024-06-21T19:08:48.979577",
     "status": "completed"
    },
    "tags": []
   },
   "source": [
    "#Dimentions of the dataset & information about dataset\n",
    "print('Dimentions of dataset:', df.shape)\n",
    "#Checking the dtypes of all the columns\n",
    "df.info()"
   ],
   "outputs": [],
   "execution_count": null
  },
  {
   "cell_type": "code",
   "id": "1da93813",
   "metadata": {
    "execution": {
     "iopub.execute_input": "2024-06-21T19:08:49.058286Z",
     "iopub.status.busy": "2024-06-21T19:08:49.057900Z",
     "iopub.status.idle": "2024-06-21T19:08:49.094671Z",
     "shell.execute_reply": "2024-06-21T19:08:49.093582Z"
    },
    "papermill": {
     "duration": 0.055211,
     "end_time": "2024-06-21T19:08:49.097576",
     "exception": false,
     "start_time": "2024-06-21T19:08:49.042365",
     "status": "completed"
    },
    "tags": []
   },
   "source": [
    "#Descriptive summary of dataset\n",
    "df.describe()"
   ],
   "outputs": [],
   "execution_count": null
  },
  {
   "cell_type": "markdown",
   "id": "83359bc8",
   "metadata": {
    "papermill": {
     "duration": 0.013953,
     "end_time": "2024-06-21T19:08:49.125982",
     "exception": false,
     "start_time": "2024-06-21T19:08:49.112029",
     "status": "completed"
    },
    "tags": []
   },
   "source": [
    "<div style=\"border-radius:10px; padding: 12px; background-color: #f2f6fc; font-size:100%; text-align:left\">\n",
    "\n",
    "<p style=\"font-size:18px; font-family:verdana; line-height: 1.7em\">- The datset contains 27481 rows and 2 columns.<br>\n",
    "- The text column includes 27480 non-null entries,'sentiment' column contains 27,481 non-null entries.<br>\n",
    "- Both columns are of type 'object.'<br>\n",
    "- The most frequent sentiment is 'neutral,' which appears 11,118 times.<br>\n",
    "- Three unique sentiment categories: 'positive,' 'negative,' and 'neutral.'</p>\n",
    "\n"
   ]
  },
  {
   "cell_type": "code",
   "id": "b2d65cfa",
   "metadata": {
    "execution": {
     "iopub.execute_input": "2024-06-21T19:08:49.155942Z",
     "iopub.status.busy": "2024-06-21T19:08:49.155567Z",
     "iopub.status.idle": "2024-06-21T19:08:49.174479Z",
     "shell.execute_reply": "2024-06-21T19:08:49.173201Z"
    },
    "papermill": {
     "duration": 0.036597,
     "end_time": "2024-06-21T19:08:49.176782",
     "exception": false,
     "start_time": "2024-06-21T19:08:49.140185",
     "status": "completed"
    },
    "tags": []
   },
   "source": [
    "#Let's check Null values\n",
    "df.isnull().sum()"
   ],
   "outputs": [],
   "execution_count": null
  },
  {
   "cell_type": "markdown",
   "id": "48dfb76a",
   "metadata": {
    "papermill": {
     "duration": 0.014428,
     "end_time": "2024-06-21T19:08:49.205515",
     "exception": false,
     "start_time": "2024-06-21T19:08:49.191087",
     "status": "completed"
    },
    "tags": []
   },
   "source": [
    " <p style=\"font-size:20px; font-family:verdana; line-height: 1.7em\"> The dataset has one null row, we can drop it</p>"
   ]
  },
  {
   "cell_type": "code",
   "id": "f388991a",
   "metadata": {
    "execution": {
     "iopub.execute_input": "2024-06-21T19:08:49.237462Z",
     "iopub.status.busy": "2024-06-21T19:08:49.236784Z",
     "iopub.status.idle": "2024-06-21T19:08:49.256138Z",
     "shell.execute_reply": "2024-06-21T19:08:49.255161Z"
    },
    "papermill": {
     "duration": 0.037611,
     "end_time": "2024-06-21T19:08:49.258520",
     "exception": false,
     "start_time": "2024-06-21T19:08:49.220909",
     "status": "completed"
    },
    "tags": []
   },
   "source": [
    "#Dropping the null values\n",
    "df.dropna(inplace=True)\n",
    "original_df = df.copy()"
   ],
   "outputs": [],
   "execution_count": null
  },
  {
   "cell_type": "code",
   "id": "4c00459b",
   "metadata": {
    "execution": {
     "iopub.execute_input": "2024-06-21T19:08:49.289421Z",
     "iopub.status.busy": "2024-06-21T19:08:49.288412Z",
     "iopub.status.idle": "2024-06-21T19:08:49.309519Z",
     "shell.execute_reply": "2024-06-21T19:08:49.308353Z"
    },
    "papermill": {
     "duration": 0.039192,
     "end_time": "2024-06-21T19:08:49.312080",
     "exception": false,
     "start_time": "2024-06-21T19:08:49.272888",
     "status": "completed"
    },
    "tags": []
   },
   "source": [
    "#Let's check Duplicates\n",
    "df.duplicated().sum()"
   ],
   "outputs": [],
   "execution_count": null
  },
  {
   "cell_type": "markdown",
   "id": "b89f5364",
   "metadata": {
    "papermill": {
     "duration": 0.014788,
     "end_time": "2024-06-21T19:08:49.341096",
     "exception": false,
     "start_time": "2024-06-21T19:08:49.326308",
     "status": "completed"
    },
    "tags": []
   },
   "source": [
    "<p style=\"font-size:20px; font-family:verdana; line-height: 1.7em\"> No duplicate values found</p>"
   ]
  },
  {
   "cell_type": "code",
   "id": "93f975f6",
   "metadata": {
    "execution": {
     "iopub.execute_input": "2024-06-21T19:08:49.371609Z",
     "iopub.status.busy": "2024-06-21T19:08:49.371200Z",
     "iopub.status.idle": "2024-06-21T19:08:49.425200Z",
     "shell.execute_reply": "2024-06-21T19:08:49.424064Z"
    },
    "papermill": {
     "duration": 0.071949,
     "end_time": "2024-06-21T19:08:49.427528",
     "exception": false,
     "start_time": "2024-06-21T19:08:49.355579",
     "status": "completed"
    },
    "tags": []
   },
   "source": [
    "# Let's get a word count \n",
    "df['word_count'] = df['text'].apply(lambda x: len(str(x).split(\" \")))\n",
    "df[['text','word_count']].head()"
   ],
   "outputs": [],
   "execution_count": null
  },
  {
   "cell_type": "code",
   "id": "b36ed252",
   "metadata": {
    "execution": {
     "iopub.execute_input": "2024-06-21T19:08:49.458237Z",
     "iopub.status.busy": "2024-06-21T19:08:49.457874Z",
     "iopub.status.idle": "2024-06-21T19:08:49.480991Z",
     "shell.execute_reply": "2024-06-21T19:08:49.479897Z"
    },
    "papermill": {
     "duration": 0.041327,
     "end_time": "2024-06-21T19:08:49.483457",
     "exception": false,
     "start_time": "2024-06-21T19:08:49.442130",
     "status": "completed"
    },
    "tags": []
   },
   "source": [
    "#Number of Characters- including spaces\n",
    "df['char_count'] = df['text'].str.len() # this also includes spaces\n",
    "df[['text','char_count']].head()\n"
   ],
   "outputs": [],
   "execution_count": null
  },
  {
   "cell_type": "code",
   "id": "5c1326d3",
   "metadata": {
    "execution": {
     "iopub.execute_input": "2024-06-21T19:08:49.515062Z",
     "iopub.status.busy": "2024-06-21T19:08:49.514671Z",
     "iopub.status.idle": "2024-06-21T19:08:49.608640Z",
     "shell.execute_reply": "2024-06-21T19:08:49.607483Z"
    },
    "papermill": {
     "duration": 0.113191,
     "end_time": "2024-06-21T19:08:49.611721",
     "exception": false,
     "start_time": "2024-06-21T19:08:49.498530",
     "status": "completed"
    },
    "tags": []
   },
   "source": [
    "#Average Word Length:\n",
    "def avg_word(sentence):\n",
    "    words = sentence.split()\n",
    "    return (sum(len(word) for word in words)/len(words))\n",
    "df['avg_word'] = df['text'].apply(lambda x: avg_word(x))\n",
    "df[['text','avg_word']].head()"
   ],
   "outputs": [],
   "execution_count": null
  },
  {
   "cell_type": "code",
   "id": "617eb47d",
   "metadata": {
    "execution": {
     "iopub.execute_input": "2024-06-21T19:08:49.645697Z",
     "iopub.status.busy": "2024-06-21T19:08:49.644604Z",
     "iopub.status.idle": "2024-06-21T19:08:50.553537Z",
     "shell.execute_reply": "2024-06-21T19:08:50.552465Z"
    },
    "papermill": {
     "duration": 0.92771,
     "end_time": "2024-06-21T19:08:50.555959",
     "exception": false,
     "start_time": "2024-06-21T19:08:49.628249",
     "status": "completed"
    },
    "tags": []
   },
   "source": [
    "#Number of stop Words:\n",
    "nltk.download('stopwords')\n",
    "from nltk.corpus import stopwords\n",
    "stop = stopwords.words('english')\n",
    "\n",
    "df['stopwords'] = df['text'].apply(lambda x: len([x for x in x.split() if x in stop]))\n",
    "df[['text','stopwords']].head()\n"
   ],
   "outputs": [],
   "execution_count": null
  },
  {
   "cell_type": "code",
   "id": "7f6ecc1e",
   "metadata": {
    "execution": {
     "iopub.execute_input": "2024-06-21T19:08:50.588380Z",
     "iopub.status.busy": "2024-06-21T19:08:50.587979Z",
     "iopub.status.idle": "2024-06-21T19:08:50.694454Z",
     "shell.execute_reply": "2024-06-21T19:08:50.693345Z"
    },
    "papermill": {
     "duration": 0.125452,
     "end_time": "2024-06-21T19:08:50.696764",
     "exception": false,
     "start_time": "2024-06-21T19:08:50.571312",
     "status": "completed"
    },
    "tags": []
   },
   "source": [
    "#Number of special character:\n",
    "df['hastags'] = df['text'].apply(lambda x: len([x for x in x.split() if x.startswith('@')]))\n",
    "df[['text','hastags']].head()"
   ],
   "outputs": [],
   "execution_count": null
  },
  {
   "cell_type": "code",
   "id": "486ba76b",
   "metadata": {
    "execution": {
     "iopub.execute_input": "2024-06-21T19:08:50.729198Z",
     "iopub.status.busy": "2024-06-21T19:08:50.728329Z",
     "iopub.status.idle": "2024-06-21T19:08:50.809011Z",
     "shell.execute_reply": "2024-06-21T19:08:50.807926Z"
    },
    "papermill": {
     "duration": 0.099591,
     "end_time": "2024-06-21T19:08:50.811502",
     "exception": false,
     "start_time": "2024-06-21T19:08:50.711911",
     "status": "completed"
    },
    "tags": []
   },
   "source": [
    "#Number of numerics:\n",
    "df['numerics'] = df['text'].apply(lambda x: len([x for x in x.split() if x.isdigit()]))\n",
    "df[['text','numerics']].head()"
   ],
   "outputs": [],
   "execution_count": null
  },
  {
   "cell_type": "markdown",
   "id": "be90af59",
   "metadata": {
    "papermill": {
     "duration": 0.01551,
     "end_time": "2024-06-21T19:08:50.842607",
     "exception": false,
     "start_time": "2024-06-21T19:08:50.827097",
     "status": "completed"
    },
    "tags": []
   },
   "source": [
    "<a id=\"toc\"></a>\n",
    "\n",
    "<a href=\"#toc\" style=\"background-color: #009dff; color: #ffffff; padding: 7px 10px; text-decoration: none; border-radius: 50px;\">Back to top</a>\n",
    "<h2 align=\"left\"><font color=#00a4f9>Wordcloud</font></h2>\n",
    "\n",
    "<p style=\"font-size:18px; font-family:verdana; line-height: 1.7em\"> - Let's visualize the words </p> "
   ]
  },
  {
   "cell_type": "code",
   "id": "d072ea8b",
   "metadata": {
    "_kg_hide-input": true,
    "_kg_hide-output": true,
    "execution": {
     "iopub.execute_input": "2024-06-21T19:08:50.875356Z",
     "iopub.status.busy": "2024-06-21T19:08:50.874971Z",
     "iopub.status.idle": "2024-06-21T19:09:01.637636Z",
     "shell.execute_reply": "2024-06-21T19:09:01.636166Z"
    },
    "papermill": {
     "duration": 10.782115,
     "end_time": "2024-06-21T19:09:01.640236",
     "exception": false,
     "start_time": "2024-06-21T19:08:50.858121",
     "status": "completed"
    },
    "tags": []
   },
   "source": [
    "pip install wordcloud"
   ],
   "outputs": [],
   "execution_count": null
  },
  {
   "cell_type": "code",
   "id": "fa5ee5ae",
   "metadata": {
    "execution": {
     "iopub.execute_input": "2024-06-21T19:09:01.676239Z",
     "iopub.status.busy": "2024-06-21T19:09:01.675797Z",
     "iopub.status.idle": "2024-06-21T19:09:19.172948Z",
     "shell.execute_reply": "2024-06-21T19:09:19.171713Z"
    },
    "papermill": {
     "duration": 17.522004,
     "end_time": "2024-06-21T19:09:19.178710",
     "exception": false,
     "start_time": "2024-06-21T19:09:01.656706",
     "status": "completed"
    },
    "tags": []
   },
   "source": [
    "from wordcloud import WordCloud, STOPWORDS\n",
    "negative_df = df[df['sentiment'] == 'negative']\n",
    "positive_df = df[df['sentiment'] == 'positive']\n",
    "neutral_df = df[df['sentiment'] == 'neutral']\n",
    "\n",
    "# Define a function to generate and display a WordCloud\n",
    "def generate_wordcloud(data, title):\n",
    "    words = ' '.join(data['text'])\n",
    "    cleaned_word = \" \".join([word for word in words.split()\n",
    "                            if 'http' not in word\n",
    "                                and not word.startswith('@')\n",
    "                                and word != 'RT' ])\n",
    "    wordcloud = WordCloud(stopwords=STOPWORDS,background_color='black', \n",
    "                          width=3000, height=800).generate(cleaned_word)\n",
    "    plt.figure(figsize=(15, 5))\n",
    "    plt.imshow(wordcloud, interpolation='bilinear')\n",
    "    plt.title(title)\n",
    "    plt.axis('off')\n",
    "    plt.show()\n",
    "# Generate and display WordClouds for each sentiment category\n",
    "generate_wordcloud(negative_df, 'Negative Sentiment WordCloud')\n",
    "generate_wordcloud(positive_df, 'Positive Sentiment WordCloud')\n",
    "generate_wordcloud(neutral_df, 'Neutral Sentiment WordCloud')\n"
   ],
   "outputs": [],
   "execution_count": null
  },
  {
   "cell_type": "markdown",
   "id": "465d2b36",
   "metadata": {
    "papermill": {
     "duration": 0.035032,
     "end_time": "2024-06-21T19:09:19.248742",
     "exception": false,
     "start_time": "2024-06-21T19:09:19.213710",
     "status": "completed"
    },
    "tags": []
   },
   "source": [
    "<p style=\"font-size:20px; font-family:verdana; line-height: 1.7em\">- In the above word cloud there are certain words probably will not make too much sense to study the reason for negative sentiment and subsequently based on the frequency of these words we will decide if the same needs to be deleted </p> \n"
   ]
  },
  {
   "cell_type": "markdown",
   "id": "d90dbd45",
   "metadata": {
    "papermill": {
     "duration": 0.032664,
     "end_time": "2024-06-21T19:09:19.314682",
     "exception": false,
     "start_time": "2024-06-21T19:09:19.282018",
     "status": "completed"
    },
    "tags": []
   },
   "source": [
    "<a id=\"toc\"></a>\n",
    "\n",
    "<a href=\"#toc\" style=\"background-color: #009dff; color: #ffffff; padding: 7px 10px; text-decoration: none; border-radius: 50px;\">Back to top</a>\n",
    "<h2 align=\"left\"><font color=#00a4f9>Basic Pre-Processing</font></h2>"
   ]
  },
  {
   "cell_type": "code",
   "id": "1e3314a2",
   "metadata": {
    "execution": {
     "iopub.execute_input": "2024-06-21T19:09:19.383219Z",
     "iopub.status.busy": "2024-06-21T19:09:19.382504Z",
     "iopub.status.idle": "2024-06-21T19:09:20.332885Z",
     "shell.execute_reply": "2024-06-21T19:09:20.331748Z"
    },
    "papermill": {
     "duration": 0.987357,
     "end_time": "2024-06-21T19:09:20.335277",
     "exception": false,
     "start_time": "2024-06-21T19:09:19.347920",
     "status": "completed"
    },
    "tags": []
   },
   "source": [
    "# Convert text to lowercase\n",
    "df['text'] = df['text'].apply(lambda x: \" \".join(x.lower() for x in x.split()))\n",
    "\n",
    "# Removal of punctuations\n",
    "df['text'].str.replace('[^\\w\\s]','')\n",
    "\n",
    "#Removal of StopWords\n",
    "from nltk.corpus import stopwords\n",
    "stop = stopwords.words('english')\n",
    "df['text'] = df['text'].apply(lambda x: \" \".join(x for x in x.split() if x not in stop))\n",
    "df['text'].head()"
   ],
   "outputs": [],
   "execution_count": null
  },
  {
   "cell_type": "markdown",
   "id": "3a4ad726",
   "metadata": {
    "papermill": {
     "duration": 0.033457,
     "end_time": "2024-06-21T19:09:20.401929",
     "exception": false,
     "start_time": "2024-06-21T19:09:20.368472",
     "status": "completed"
    },
    "tags": []
   },
   "source": [
    "<a id=\"toc\"></a>\n",
    "\n",
    "<a href=\"#toc\" style=\"background-color: #009dff; color: #ffffff; padding: 7px 10px; text-decoration: none; border-radius: 50px;\">Back to top</a>\n",
    "<h2 align=\"left\"><font color=#00a4f9>Common Words Removal</font></h2>\n",
    "\n",
    "<p style=\"font-size:18px; font-family:verdana; line-height: 1.7em\">- Let's create a list of 10 frequently occurring words and then decide if we need to remove it or retain it</p> "
   ]
  },
  {
   "cell_type": "code",
   "id": "35266f10",
   "metadata": {
    "execution": {
     "iopub.execute_input": "2024-06-21T19:09:20.469719Z",
     "iopub.status.busy": "2024-06-21T19:09:20.469303Z",
     "iopub.status.idle": "2024-06-21T19:09:20.570138Z",
     "shell.execute_reply": "2024-06-21T19:09:20.569106Z"
    },
    "papermill": {
     "duration": 0.137382,
     "end_time": "2024-06-21T19:09:20.572374",
     "exception": false,
     "start_time": "2024-06-21T19:09:20.434992",
     "status": "completed"
    },
    "tags": []
   },
   "source": [
    "freq = pd.Series(' '.join(df['text']).split()).value_counts()[:30]\n",
    "freq"
   ],
   "outputs": [],
   "execution_count": null
  },
  {
   "cell_type": "markdown",
   "id": "e4e597bf",
   "metadata": {
    "papermill": {
     "duration": 0.033683,
     "end_time": "2024-06-21T19:09:20.639368",
     "exception": false,
     "start_time": "2024-06-21T19:09:20.605685",
     "status": "completed"
    },
    "tags": []
   },
   "source": [
    "<p style=\"font-size:20px; font-family:verdana; line-height: 1.7em\">Let's remove \"I'm\", '-', '****', '& '<br>\n",
    "    There can be other words too which can be removed, but let's conbtinue with above only </p>  "
   ]
  },
  {
   "cell_type": "code",
   "id": "4d60d287",
   "metadata": {
    "execution": {
     "iopub.execute_input": "2024-06-21T19:09:20.707692Z",
     "iopub.status.busy": "2024-06-21T19:09:20.707279Z",
     "iopub.status.idle": "2024-06-21T19:09:20.795431Z",
     "shell.execute_reply": "2024-06-21T19:09:20.794138Z"
    },
    "papermill": {
     "duration": 0.125231,
     "end_time": "2024-06-21T19:09:20.797896",
     "exception": false,
     "start_time": "2024-06-21T19:09:20.672665",
     "status": "completed"
    },
    "tags": []
   },
   "source": [
    "freq =[\"I'm\", \"-\", \"****\", \"&\"]\n",
    "df['text']= df['text'].apply(lambda x: \" \".join(x for x in x.split() if x not in freq))\n",
    "df['text'].head()"
   ],
   "outputs": [],
   "execution_count": null
  },
  {
   "cell_type": "code",
   "id": "109ef100",
   "metadata": {
    "execution": {
     "iopub.execute_input": "2024-06-21T19:09:20.868233Z",
     "iopub.status.busy": "2024-06-21T19:09:20.867231Z",
     "iopub.status.idle": "2024-06-21T19:09:20.970769Z",
     "shell.execute_reply": "2024-06-21T19:09:20.969676Z"
    },
    "papermill": {
     "duration": 0.14098,
     "end_time": "2024-06-21T19:09:20.973129",
     "exception": false,
     "start_time": "2024-06-21T19:09:20.832149",
     "status": "completed"
    },
    "tags": []
   },
   "source": [
    "#Rare Words Removal\n",
    "#This is done as association of these less occurring words with the existing words could be a noise\n",
    "freq = pd.Series(' '.join(df['text']).split()).value_counts()[-10:]\n",
    "freq"
   ],
   "outputs": [],
   "execution_count": null
  },
  {
   "cell_type": "code",
   "id": "1bc75d01",
   "metadata": {
    "execution": {
     "iopub.execute_input": "2024-06-21T19:09:21.042505Z",
     "iopub.status.busy": "2024-06-21T19:09:21.042088Z",
     "iopub.status.idle": "2024-06-21T19:09:21.052466Z",
     "shell.execute_reply": "2024-06-21T19:09:21.051283Z"
    },
    "papermill": {
     "duration": 0.047534,
     "end_time": "2024-06-21T19:09:21.054631",
     "exception": false,
     "start_time": "2024-06-21T19:09:21.007097",
     "status": "completed"
    },
    "tags": []
   },
   "source": [
    "#Stemming -refers to the removal of suffices, like “ing”, “ly”, “s”, etc. by a simple rule-based approach¶\n",
    "from nltk.stem import PorterStemmer\n",
    "st = PorterStemmer()\n",
    "df['text'][:5].apply(lambda x: \" \".join([st.stem(word) for word in x.split()]))"
   ],
   "outputs": [],
   "execution_count": null
  },
  {
   "cell_type": "code",
   "id": "06689187",
   "metadata": {
    "execution": {
     "iopub.execute_input": "2024-06-21T19:09:21.126168Z",
     "iopub.status.busy": "2024-06-21T19:09:21.125790Z",
     "iopub.status.idle": "2024-06-21T19:09:21.137024Z",
     "shell.execute_reply": "2024-06-21T19:09:21.135771Z"
    },
    "papermill": {
     "duration": 0.050192,
     "end_time": "2024-06-21T19:09:21.139529",
     "exception": false,
     "start_time": "2024-06-21T19:09:21.089337",
     "status": "completed"
    },
    "tags": []
   },
   "source": [
    "df[target].value_counts()"
   ],
   "outputs": [],
   "execution_count": null
  },
  {
   "cell_type": "code",
   "id": "c19f5b4a",
   "metadata": {
    "_kg_hide-input": true,
    "execution": {
     "iopub.execute_input": "2024-06-21T19:09:21.209263Z",
     "iopub.status.busy": "2024-06-21T19:09:21.208900Z",
     "iopub.status.idle": "2024-06-21T19:09:21.389096Z",
     "shell.execute_reply": "2024-06-21T19:09:21.387613Z"
    },
    "papermill": {
     "duration": 0.218985,
     "end_time": "2024-06-21T19:09:21.392371",
     "exception": false,
     "start_time": "2024-06-21T19:09:21.173386",
     "status": "completed"
    },
    "tags": []
   },
   "source": [
    "#Let's look at the overall distribution of positive, negative and neutral sentiments\n",
    "print('\\033[1mSentiment Variable Distribution'.center(70))\n",
    "plt.figure(figsize=(12, 6))\n",
    "colors = ['#ebde96', '#5ebd89', '#ff8680']\n",
    "plt.pie(df[target].value_counts(), labels=['Neutral', 'Positive', 'Negative'], counterclock=False, shadow=True,\n",
    "        explode=[0, 0, 0.15], autopct='%1.2f%%', radius=1, startangle=1, colors=colors)\n",
    "\n",
    "plt.show()"
   ],
   "outputs": [],
   "execution_count": null
  },
  {
   "cell_type": "markdown",
   "id": "95bc45eb",
   "metadata": {
    "papermill": {
     "duration": 0.034344,
     "end_time": "2024-06-21T19:09:21.483377",
     "exception": false,
     "start_time": "2024-06-21T19:09:21.449033",
     "status": "completed"
    },
    "tags": []
   },
   "source": [
    "<h3 align=\"left\"><font color=#00a4f9>Let's visualize wordcloud post cleaning</font></h3>"
   ]
  },
  {
   "cell_type": "code",
   "id": "ffe2f956",
   "metadata": {
    "execution": {
     "iopub.execute_input": "2024-06-21T19:09:21.554985Z",
     "iopub.status.busy": "2024-06-21T19:09:21.554033Z",
     "iopub.status.idle": "2024-06-21T19:09:39.595587Z",
     "shell.execute_reply": "2024-06-21T19:09:39.594492Z"
    },
    "papermill": {
     "duration": 18.083787,
     "end_time": "2024-06-21T19:09:39.601678",
     "exception": false,
     "start_time": "2024-06-21T19:09:21.517891",
     "status": "completed"
    },
    "tags": [],
    "ExecuteTime": {
     "end_time": "2025-01-04T12:57:51.720306Z",
     "start_time": "2025-01-04T12:57:51.705997Z"
    }
   },
   "source": [
    "from wordcloud import WordCloud, STOPWORDS\n",
    "negative_df = df[df['sentiment'] == 'negative']\n",
    "positive_df = df[df['sentiment'] == 'positive']\n",
    "neutral_df = df[df['sentiment'] == 'neutral']\n",
    "\n",
    "# Define a function to generate and display a WordCloud\n",
    "def generate_wordcloud(data, title):\n",
    "    words = ' '.join(data['text'])\n",
    "    cleaned_word = \" \".join([word for word in words.split()\n",
    "                            if 'http' not in word\n",
    "                                and not word.startswith('@')\n",
    "                                and word != 'RT' ])\n",
    "    wordcloud = WordCloud(stopwords=STOPWORDS,background_color='black', \n",
    "                          width=3000, height=800).generate(cleaned_word)\n",
    "    plt.figure(figsize=(15, 5))\n",
    "    plt.imshow(wordcloud, interpolation='bilinear')\n",
    "    plt.title(title)\n",
    "    plt.axis('off')\n",
    "    plt.show()\n",
    "# Generate and display WordClouds for each sentiment category\n",
    "generate_wordcloud(negative_df, 'Negative Sentiment WordCloud')\n",
    "generate_wordcloud(positive_df, 'Positive Sentiment WordCloud')\n",
    "generate_wordcloud(neutral_df, 'Neutral Sentiment WordCloud')\n"
   ],
   "outputs": [
    {
     "ename": "NameError",
     "evalue": "name 'df' is not defined",
     "output_type": "error",
     "traceback": [
      "\u001B[0;31m---------------------------------------------------------------------------\u001B[0m",
      "\u001B[0;31mNameError\u001B[0m                                 Traceback (most recent call last)",
      "Cell \u001B[0;32mIn[12], line 2\u001B[0m\n\u001B[1;32m      1\u001B[0m \u001B[38;5;28;01mfrom\u001B[39;00m \u001B[38;5;21;01mwordcloud\u001B[39;00m \u001B[38;5;28;01mimport\u001B[39;00m WordCloud, STOPWORDS\n\u001B[0;32m----> 2\u001B[0m negative_df \u001B[38;5;241m=\u001B[39m \u001B[43mdf\u001B[49m[df[\u001B[38;5;124m'\u001B[39m\u001B[38;5;124msentiment\u001B[39m\u001B[38;5;124m'\u001B[39m] \u001B[38;5;241m==\u001B[39m \u001B[38;5;124m'\u001B[39m\u001B[38;5;124mnegative\u001B[39m\u001B[38;5;124m'\u001B[39m]\n\u001B[1;32m      3\u001B[0m positive_df \u001B[38;5;241m=\u001B[39m df[df[\u001B[38;5;124m'\u001B[39m\u001B[38;5;124msentiment\u001B[39m\u001B[38;5;124m'\u001B[39m] \u001B[38;5;241m==\u001B[39m \u001B[38;5;124m'\u001B[39m\u001B[38;5;124mpositive\u001B[39m\u001B[38;5;124m'\u001B[39m]\n\u001B[1;32m      4\u001B[0m neutral_df \u001B[38;5;241m=\u001B[39m df[df[\u001B[38;5;124m'\u001B[39m\u001B[38;5;124msentiment\u001B[39m\u001B[38;5;124m'\u001B[39m] \u001B[38;5;241m==\u001B[39m \u001B[38;5;124m'\u001B[39m\u001B[38;5;124mneutral\u001B[39m\u001B[38;5;124m'\u001B[39m]\n",
      "\u001B[0;31mNameError\u001B[0m: name 'df' is not defined"
     ]
    }
   ],
   "execution_count": 12
  },
  {
   "cell_type": "markdown",
   "id": "d8fb09a3",
   "metadata": {
    "papermill": {
     "duration": 0.053089,
     "end_time": "2024-06-21T19:09:39.709772",
     "exception": false,
     "start_time": "2024-06-21T19:09:39.656683",
     "status": "completed"
    },
    "tags": []
   },
   "source": [
    "<a id=\"toc\"></a>\n",
    "\n",
    "<a href=\"#toc\" style=\"background-color: #009dff; color: #ffffff; padding: 7px 10px; text-decoration: none; border-radius: 50px;\">Back to top</a>\n",
    "\n",
    "<h2 align=\"left\"><font color=#00a4f9>Predictive Modeling</font></h2>"
   ]
  },
  {
   "cell_type": "code",
   "id": "eb7a67d2",
   "metadata": {
    "execution": {
     "iopub.execute_input": "2024-06-21T19:09:39.815248Z",
     "iopub.status.busy": "2024-06-21T19:09:39.814438Z",
     "iopub.status.idle": "2024-06-21T19:09:39.819489Z",
     "shell.execute_reply": "2024-06-21T19:09:39.818444Z"
    },
    "papermill": {
     "duration": 0.060197,
     "end_time": "2024-06-21T19:09:39.821573",
     "exception": false,
     "start_time": "2024-06-21T19:09:39.761376",
     "status": "completed"
    },
    "tags": []
   },
   "source": [
    "X = df['text']\n",
    "y = df['sentiment']"
   ],
   "outputs": [],
   "execution_count": null
  },
  {
   "cell_type": "code",
   "id": "a4fe0667",
   "metadata": {
    "execution": {
     "iopub.execute_input": "2024-06-21T19:09:39.927489Z",
     "iopub.status.busy": "2024-06-21T19:09:39.926671Z",
     "iopub.status.idle": "2024-06-21T19:09:41.596612Z",
     "shell.execute_reply": "2024-06-21T19:09:41.595360Z"
    },
    "papermill": {
     "duration": 1.724906,
     "end_time": "2024-06-21T19:09:41.599085",
     "exception": false,
     "start_time": "2024-06-21T19:09:39.874179",
     "status": "completed"
    },
    "tags": []
   },
   "source": [
    "from sklearn.feature_extraction.text import TfidfVectorizer\n",
    "\n",
    "vectorizer = TfidfVectorizer ()\n",
    "X = vectorizer.fit_transform(X).toarray()\n",
    "vectorizer"
   ],
   "outputs": [],
   "execution_count": null
  },
  {
   "cell_type": "code",
   "id": "d3bc1cda",
   "metadata": {
    "execution": {
     "iopub.execute_input": "2024-06-21T19:09:41.704749Z",
     "iopub.status.busy": "2024-06-21T19:09:41.703585Z",
     "iopub.status.idle": "2024-06-21T19:09:45.762963Z",
     "shell.execute_reply": "2024-06-21T19:09:45.761955Z"
    },
    "papermill": {
     "duration": 4.114763,
     "end_time": "2024-06-21T19:09:45.765533",
     "exception": false,
     "start_time": "2024-06-21T19:09:41.650770",
     "status": "completed"
    },
    "tags": []
   },
   "source": [
    "from sklearn.model_selection import train_test_split\n",
    "\n",
    "X_train, X_test, y_train, y_test = train_test_split(X, y, test_size=0.2, random_state=0)\n"
   ],
   "outputs": [],
   "execution_count": null
  },
  {
   "cell_type": "code",
   "id": "75c055e2",
   "metadata": {
    "execution": {
     "iopub.execute_input": "2024-06-21T19:09:45.870470Z",
     "iopub.status.busy": "2024-06-21T19:09:45.870067Z",
     "iopub.status.idle": "2024-06-21T19:09:45.884670Z",
     "shell.execute_reply": "2024-06-21T19:09:45.883484Z"
    },
    "papermill": {
     "duration": 0.070133,
     "end_time": "2024-06-21T19:09:45.886769",
     "exception": false,
     "start_time": "2024-06-21T19:09:45.816636",
     "status": "completed"
    },
    "tags": []
   },
   "source": [
    "#Let us create first create a table to store the results of various models \n",
    "results_df = pd.DataFrame(np.zeros((2,5)), columns=['Accuracy', 'Precision','Recall','F1-score','AUC-ROC score'])\n",
    "results_df.index=['Logistic Regression (LR)','Naïve Bayes Classifier (NB)'] #'Decision Tree Classifier (DT)', 'Linear Discriminant Analysis(LDA)','Random Forest Classifier (RF)', 'Support Vector Classifier (SVC)'\n",
    "results_df"
   ],
   "outputs": [],
   "execution_count": null
  },
  {
   "cell_type": "code",
   "id": "acf2e588",
   "metadata": {
    "_kg_hide-input": true,
    "_kg_hide-output": true,
    "execution": {
     "iopub.execute_input": "2024-06-21T19:09:45.990510Z",
     "iopub.status.busy": "2024-06-21T19:09:45.990107Z",
     "iopub.status.idle": "2024-06-21T19:09:56.870114Z",
     "shell.execute_reply": "2024-06-21T19:09:56.868674Z"
    },
    "papermill": {
     "duration": 10.935313,
     "end_time": "2024-06-21T19:09:56.873217",
     "exception": false,
     "start_time": "2024-06-21T19:09:45.937904",
     "status": "completed"
    },
    "tags": []
   },
   "source": [
    "pip install scikit-plot"
   ],
   "outputs": [],
   "execution_count": null
  },
  {
   "cell_type": "code",
   "id": "b43a6655",
   "metadata": {
    "execution": {
     "iopub.execute_input": "2024-06-21T19:09:56.988687Z",
     "iopub.status.busy": "2024-06-21T19:09:56.987691Z",
     "iopub.status.idle": "2024-06-21T19:09:57.033485Z",
     "shell.execute_reply": "2024-06-21T19:09:57.032268Z"
    },
    "papermill": {
     "duration": 0.10281,
     "end_time": "2024-06-21T19:09:57.035906",
     "exception": false,
     "start_time": "2024-06-21T19:09:56.933096",
     "status": "completed"
    },
    "tags": []
   },
   "source": [
    "#Let us define functions to summarise the Prediction's scores .\n",
    "from scikitplot.metrics import plot_roc_curve as auc_roc\n",
    "from sklearn.metrics import accuracy_score, confusion_matrix, classification_report, f1_score, \\\n",
    "roc_auc_score, roc_curve, precision_score, recall_score\n",
    "\n",
    "#Classification Summary Function\n",
    "def Classification_Summary(pred,pred_prob,i):\n",
    "    results_df.iloc[i]['Accuracy']=round(accuracy_score(y_test, pred),3)*100   \n",
    "    results_df.iloc[i]['Precision']=round(precision_score(y_test, pred, average='weighted'),3)*100 #, average='weighted'\n",
    "    results_df.iloc[i]['Recall']=round(recall_score(y_test, pred, average='weighted'),3)*100 #, average='weighted'\n",
    "    results_df.iloc[i]['F1-score']=round(f1_score(y_test, pred, average='weighted'),3)*100 #, average='weighted'\n",
    "    results_df.iloc[i]['AUC/ROC score']=round(roc_auc_score(y_test, pred_prob, multi_class='ovr'),3)*100 #, multi_class='ovr'\n",
    "    print('{}{}\\033[1m Evaluating {} \\033[0m{}{}\\n'.format('<'*3,'-'*35,results_df.index[i], '-'*35,'>'*3))\n",
    "    print('Accuracy = {}%'.format(round(accuracy_score(y_test, pred),3)*100))\n",
    "    print('F1 Score = {}%'.format(round(f1_score(y_test, pred, average='weighted'),3)*100)) #, average='weighted'\n",
    "    print('\\n \\033[1mConfusiton Matrix:\\033[0m\\n',confusion_matrix(y_test, pred))\n",
    "    print('\\n\\033[1mClassification Report:\\033[0m\\n',classification_report(y_test, pred))\n",
    "    \n",
    "    auc_roc(y_test, pred_prob, curves=['each_class'])\n",
    "    plt.show()"
   ],
   "outputs": [],
   "execution_count": null
  },
  {
   "cell_type": "code",
   "id": "b0fb44c9",
   "metadata": {
    "execution": {
     "iopub.execute_input": "2024-06-21T19:09:57.143729Z",
     "iopub.status.busy": "2024-06-21T19:09:57.142856Z",
     "iopub.status.idle": "2024-06-21T19:09:57.152289Z",
     "shell.execute_reply": "2024-06-21T19:09:57.150861Z"
    },
    "papermill": {
     "duration": 0.067212,
     "end_time": "2024-06-21T19:09:57.154977",
     "exception": false,
     "start_time": "2024-06-21T19:09:57.087765",
     "status": "completed"
    },
    "tags": []
   },
   "source": [
    "#Visualising Function\n",
    "def AUC_ROC_plot(y_test, pred):    \n",
    "    ref = [0 for _ in range(len(y_test))]\n",
    "    ref_auc = roc_auc_score(y_test, ref)\n",
    "    lr_auc = roc_auc_score(y_test, pred)\n",
    "\n",
    "    ns_fpr, ns_tpr, _ = roc_curve(y_test, ref)\n",
    "    lr_fpr, lr_tpr, _ = roc_curve(y_test, pred)\n",
    "\n",
    "    plt.plot(ns_fpr, ns_tpr, linestyle='--')\n",
    "    plt.plot(lr_fpr, lr_tpr, marker='.', label='AUC = {}'.format(round(roc_auc_score(y_test, pred)*100,2))) \n",
    "    plt.xlabel('False Positive Rate')\n",
    "    plt.ylabel('True Positive Rate')\n",
    "    plt.legend()\n",
    "    plt.show()"
   ],
   "outputs": [],
   "execution_count": null
  },
  {
   "cell_type": "markdown",
   "id": "e23dea0b",
   "metadata": {
    "papermill": {
     "duration": 0.05273,
     "end_time": "2024-06-21T19:09:57.259919",
     "exception": false,
     "start_time": "2024-06-21T19:09:57.207189",
     "status": "completed"
    },
    "tags": []
   },
   "source": [
    "<h2 align=\"left\"><font color=#00a4f9>Logistics Regression Model</font></h2>"
   ]
  },
  {
   "cell_type": "code",
   "id": "c326566c",
   "metadata": {
    "execution": {
     "iopub.execute_input": "2024-06-21T19:09:57.366538Z",
     "iopub.status.busy": "2024-06-21T19:09:57.366060Z",
     "iopub.status.idle": "2024-06-21T19:12:44.401112Z",
     "shell.execute_reply": "2024-06-21T19:12:44.399726Z"
    },
    "papermill": {
     "duration": 167.092481,
     "end_time": "2024-06-21T19:12:44.404639",
     "exception": false,
     "start_time": "2024-06-21T19:09:57.312158",
     "status": "completed"
    },
    "tags": []
   },
   "source": [
    "# Building Logistic Regression Classifier\n",
    "from sklearn.linear_model import LogisticRegression\n",
    "\n",
    "LR_model = LogisticRegression()\n",
    "LR = LR_model.fit(X_train, y_train)"
   ],
   "outputs": [],
   "execution_count": null
  },
  {
   "cell_type": "code",
   "id": "b0c9233e",
   "metadata": {
    "execution": {
     "iopub.execute_input": "2024-06-21T19:12:44.582557Z",
     "iopub.status.busy": "2024-06-21T19:12:44.582133Z",
     "iopub.status.idle": "2024-06-21T19:12:45.837949Z",
     "shell.execute_reply": "2024-06-21T19:12:45.836700Z"
    },
    "papermill": {
     "duration": 1.312553,
     "end_time": "2024-06-21T19:12:45.840346",
     "exception": false,
     "start_time": "2024-06-21T19:12:44.527793",
     "status": "completed"
    },
    "tags": []
   },
   "source": [
    "pred = LR.predict(X_test)\n",
    "pred_prob = LR.predict_proba(X_test)\n",
    "Classification_Summary(pred,pred_prob,0)\n"
   ],
   "outputs": [],
   "execution_count": null
  },
  {
   "cell_type": "markdown",
   "id": "ae2349b2",
   "metadata": {
    "papermill": {
     "duration": 0.053509,
     "end_time": "2024-06-21T19:12:45.950945",
     "exception": false,
     "start_time": "2024-06-21T19:12:45.897436",
     "status": "completed"
    },
    "tags": []
   },
   "source": [
    "<a id=\"toc\"></a>\n",
    "\n",
    "<a href=\"#toc\" style=\"background-color: #009dff; color: #ffffff; padding: 7px 10px; text-decoration: none; border-radius: 50px;\">Back to top</a>\n",
    "<h2 align=\"left\"><font color=#00a4f9>Naive Bayes Classfier</font></h2>"
   ]
  },
  {
   "cell_type": "code",
   "id": "90d0f18e",
   "metadata": {
    "execution": {
     "iopub.execute_input": "2024-06-21T19:12:46.060581Z",
     "iopub.status.busy": "2024-06-21T19:12:46.059508Z",
     "iopub.status.idle": "2024-06-21T19:12:55.267493Z",
     "shell.execute_reply": "2024-06-21T19:12:55.266474Z"
    },
    "papermill": {
     "duration": 9.265546,
     "end_time": "2024-06-21T19:12:55.270133",
     "exception": false,
     "start_time": "2024-06-21T19:12:46.004587",
     "status": "completed"
    },
    "tags": []
   },
   "source": [
    "#Naive Bayes Classfier\n",
    "NB_model = BernoulliNB()\n",
    "NB = NB_model.fit(X_train, y_train)\n",
    "pred = NB.predict(X_test)\n",
    "pred_prob = NB.predict_proba(X_test)\n",
    "Classification_Summary(pred,pred_prob,1)"
   ],
   "outputs": [],
   "execution_count": null
  },
  {
   "cell_type": "markdown",
   "id": "e1deb5cc",
   "metadata": {
    "_kg_hide-input": true,
    "papermill": {
     "duration": 0.05489,
     "end_time": "2024-06-21T19:12:55.383618",
     "exception": false,
     "start_time": "2024-06-21T19:12:55.328728",
     "status": "completed"
    },
    "tags": []
   },
   "source": [
    "<a id=\"toc\"></a>\n",
    "\n",
    "<a href=\"#toc\" style=\"background-color: #009dff; color: #ffffff; padding: 7px 10px; text-decoration: none; border-radius: 50px;\">Back to top</a>\n",
    "<h2 align=\"left\"><font color=#00a4f9>Decision Tree ModelClassfier</font></h2>"
   ]
  },
  {
   "cell_type": "code",
   "id": "0e8b4c2c",
   "metadata": {
    "_kg_hide-input": true,
    "execution": {
     "iopub.execute_input": "2024-06-21T19:12:55.494722Z",
     "iopub.status.busy": "2024-06-21T19:12:55.494289Z",
     "iopub.status.idle": "2024-06-21T19:12:55.499217Z",
     "shell.execute_reply": "2024-06-21T19:12:55.498113Z"
    },
    "papermill": {
     "duration": 0.063221,
     "end_time": "2024-06-21T19:12:55.501512",
     "exception": false,
     "start_time": "2024-06-21T19:12:55.438291",
     "status": "completed"
    },
    "tags": []
   },
   "source": [
    "#Decision Tree classifier\n",
    "#DT_model = DecisionTreeClassifier()\n",
    "#DT = DT_model.fit(X_train, y_train)\n",
    "#pred = DT.predict(X_test)\n",
    "#pred_prob = DT.predict_proba(X_test)\n",
    "#Classification_Summary(pred,pred_prob,1)\n"
   ],
   "outputs": [],
   "execution_count": null
  },
  {
   "cell_type": "markdown",
   "id": "8a6e5fd2",
   "metadata": {
    "_kg_hide-input": true,
    "papermill": {
     "duration": 0.054396,
     "end_time": "2024-06-21T19:12:55.610320",
     "exception": false,
     "start_time": "2024-06-21T19:12:55.555924",
     "status": "completed"
    },
    "tags": []
   },
   "source": [
    "<a id=\"toc\"></a>\n",
    "\n",
    "<a href=\"#toc\" style=\"background-color: #00a4f9; color: #ffffff; padding: 7px 10px; text-decoration: none; border-radius: 50px;\">Back to top</a>\n",
    "<h2 align=\"left\"><font color=#00a4f9>Discriminant Analysis</font></h2>"
   ]
  },
  {
   "cell_type": "code",
   "id": "a8e049e4",
   "metadata": {
    "_kg_hide-input": true,
    "execution": {
     "iopub.execute_input": "2024-06-21T19:12:55.722220Z",
     "iopub.status.busy": "2024-06-21T19:12:55.721823Z",
     "iopub.status.idle": "2024-06-21T19:12:55.726847Z",
     "shell.execute_reply": "2024-06-21T19:12:55.725725Z"
    },
    "papermill": {
     "duration": 0.064495,
     "end_time": "2024-06-21T19:12:55.729068",
     "exception": false,
     "start_time": "2024-06-21T19:12:55.664573",
     "status": "completed"
    },
    "tags": []
   },
   "source": [
    "#Discriminant Analysis\n",
    "#from sklearn.discriminant_analysis import LinearDiscriminantAnalysis\n",
    "#LDA_model = LinearDiscriminantAnalysis(solver='lsqr')  \n",
    "#LDA = LDA_model.fit(X_train, y_train)\n",
    "#pred = LDA.predict(X_test)\n",
    "#pred_prob = LDA.predict_proba(X_test)\n",
    "#Classification_Summary(pred,pred_prob,2)"
   ],
   "outputs": [],
   "execution_count": null
  },
  {
   "cell_type": "markdown",
   "id": "2cca004b",
   "metadata": {
    "_kg_hide-input": true,
    "papermill": {
     "duration": 0.054638,
     "end_time": "2024-06-21T19:12:55.839530",
     "exception": false,
     "start_time": "2024-06-21T19:12:55.784892",
     "status": "completed"
    },
    "tags": []
   },
   "source": [
    "<a id=\"toc\"></a>\n",
    "\n",
    "<a href=\"#toc\" style=\"background-color: #00a4f9; color: #ffffff; padding: 7px 10px; text-decoration: none; border-radius: 50px;\">Back to top</a>\n",
    "<h2 align=\"left\"><font color=#00a4f9>Random Forest Model</font></h2>"
   ]
  },
  {
   "cell_type": "code",
   "id": "018671fa",
   "metadata": {
    "_kg_hide-input": true,
    "execution": {
     "iopub.execute_input": "2024-06-21T19:12:55.951823Z",
     "iopub.status.busy": "2024-06-21T19:12:55.951430Z",
     "iopub.status.idle": "2024-06-21T19:12:55.956288Z",
     "shell.execute_reply": "2024-06-21T19:12:55.955250Z"
    },
    "papermill": {
     "duration": 0.063757,
     "end_time": "2024-06-21T19:12:55.958783",
     "exception": false,
     "start_time": "2024-06-21T19:12:55.895026",
     "status": "completed"
    },
    "tags": []
   },
   "source": [
    "#Random Forest Model\n",
    "#RF_model = RandomForestClassifier()\n",
    "#RF = RF_model.fit(X_train, y_train)\n",
    "#pred = RF.predict(X_test)\n",
    "#pred_prob = RF.predict_proba(X_test)\n",
    "#Classification_Summary(pred,pred_prob,4)\n"
   ],
   "outputs": [],
   "execution_count": null
  },
  {
   "cell_type": "markdown",
   "id": "257d5d43",
   "metadata": {
    "_kg_hide-input": true,
    "papermill": {
     "duration": 0.054949,
     "end_time": "2024-06-21T19:12:56.068890",
     "exception": false,
     "start_time": "2024-06-21T19:12:56.013941",
     "status": "completed"
    },
    "tags": []
   },
   "source": [
    "<a id=\"toc\"></a>\n",
    "\n",
    "<a href=\"#toc\" style=\"background-color: #00a4f9; color: #ffffff; padding: 7px 10px; text-decoration: none; border-radius: 50px;\">Back to top</a>\n",
    "<h2 align=\"left\"><font color=#00a4f9>SVC</font></h2>"
   ]
  },
  {
   "cell_type": "code",
   "id": "d96551e5",
   "metadata": {
    "_kg_hide-input": true,
    "execution": {
     "iopub.execute_input": "2024-06-21T19:12:56.180323Z",
     "iopub.status.busy": "2024-06-21T19:12:56.179924Z",
     "iopub.status.idle": "2024-06-21T19:12:56.184940Z",
     "shell.execute_reply": "2024-06-21T19:12:56.183663Z"
    },
    "papermill": {
     "duration": 0.063478,
     "end_time": "2024-06-21T19:12:56.187211",
     "exception": false,
     "start_time": "2024-06-21T19:12:56.123733",
     "status": "completed"
    },
    "tags": []
   },
   "source": [
    "#SVC\n",
    "#SVC_model = SVC(probability=True)  \n",
    "#SVC_clf = SVC_model.fit(X_train, y_train) \n",
    "#pred = SVC_clf.predict(X_test)\n",
    "#pred_prob = SVC_clf.predict_proba(X_test)\n",
    "#Classification_Summary(pred, pred_prob, 5)\n"
   ],
   "outputs": [],
   "execution_count": null
  },
  {
   "cell_type": "code",
   "id": "4a58e2ee",
   "metadata": {
    "_kg_hide-input": true,
    "execution": {
     "iopub.execute_input": "2024-06-21T19:12:56.297673Z",
     "iopub.status.busy": "2024-06-21T19:12:56.296865Z",
     "iopub.status.idle": "2024-06-21T19:12:58.527900Z",
     "shell.execute_reply": "2024-06-21T19:12:58.526936Z"
    },
    "papermill": {
     "duration": 2.288669,
     "end_time": "2024-06-21T19:12:58.530107",
     "exception": false,
     "start_time": "2024-06-21T19:12:56.241438",
     "status": "completed"
    },
    "tags": []
   },
   "source": [
    "#Plotting Confusion-Matrix of all the predictive Models\n",
    "\n",
    "import math\n",
    "labels=['Positive','Negative']\n",
    "def plot_cm(y_true, y_pred):\n",
    "    cm = confusion_matrix(y_true, y_pred, labels=np.unique(y_true))\n",
    "    cm_sum = np.sum(cm, axis=1, keepdims=True)\n",
    "    cm_perc = cm / cm_sum.astype(float) * 100\n",
    "    annot = np.empty_like(cm).astype(str)\n",
    "    nrows, ncols = cm.shape\n",
    "    for i in range(nrows):\n",
    "        for j in range(ncols):\n",
    "            c = cm[i, j]\n",
    "            p = cm_perc[i, j]\n",
    "            if i == j:\n",
    "                s = cm_sum[i]\n",
    "                annot[i, j] = '%.1f%%\\n%d/%d' % (p, c, s)\n",
    "            elif c == 0:\n",
    "                annot[i, j] = ''\n",
    "            else:\n",
    "                annot[i, j] = '%.1f%%\\n%d' % (p, c)\n",
    "    cm = pd.DataFrame(cm, index=np.unique(y_true), columns=np.unique(y_true))\n",
    "    cm.columns=labels\n",
    "    cm.index=labels\n",
    "    cm.index.name = 'Actual'\n",
    "    cm.columns.name = 'Predicted'\n",
    "    #fig, ax = plt.subplots()\n",
    "    sns.heatmap(cm, annot=annot, fmt='')# cmap= \"GnBu\"\n",
    "    \n",
    "def conf_mat_plot(all_models):\n",
    "    plt.figure(figsize=[20,3*math.ceil(len([all_models])/4)])\n",
    "    \n",
    "    for i in range(len(all_models)):\n",
    "        if len(labels)<=6:\n",
    "            plt.subplot(1,6,i+1)\n",
    "        else:\n",
    "            plt.subplot(math.ceil(len(all_models)/2),2,i+1)\n",
    "        pred = all_models[i].predict(X_test)\n",
    "        #plot_cm(Test_Y, pred)\n",
    "        sns.heatmap(confusion_matrix(y_test, pred), annot=True, fmt='.0f') \n",
    "        plt.title(results_df.index[i])\n",
    "    plt.tight_layout()\n",
    "    plt.show()\n",
    "\n",
    "conf_mat_plot([LR, NB ]) #DT,RF,SVC_clf,LDA removed\n"
   ],
   "outputs": [],
   "execution_count": null
  },
  {
   "cell_type": "code",
   "id": "0b0e909e",
   "metadata": {
    "_kg_hide-input": true,
    "execution": {
     "iopub.execute_input": "2024-06-21T19:12:58.659632Z",
     "iopub.status.busy": "2024-06-21T19:12:58.658389Z",
     "iopub.status.idle": "2024-06-21T19:12:58.674359Z",
     "shell.execute_reply": "2024-06-21T19:12:58.673200Z"
    },
    "papermill": {
     "duration": 0.080665,
     "end_time": "2024-06-21T19:12:58.676754",
     "exception": false,
     "start_time": "2024-06-21T19:12:58.596089",
     "status": "completed"
    },
    "tags": []
   },
   "source": [
    "#Comparing all the models Scores\n",
    "display(\"Model Comparision\",results_df)"
   ],
   "outputs": [],
   "execution_count": null
  },
  {
   "cell_type": "markdown",
   "id": "b8ee6302",
   "metadata": {
    "papermill": {
     "duration": 0.055811,
     "end_time": "2024-06-21T19:12:58.789565",
     "exception": false,
     "start_time": "2024-06-21T19:12:58.733754",
     "status": "completed"
    },
    "tags": []
   },
   "source": [
    "```Note: Not all models are run due to high computaional time. Codes are marked hidden ```\n"
   ]
  },
  {
   "cell_type": "markdown",
   "id": "cf3d481d",
   "metadata": {
    "papermill": {
     "duration": 0.055556,
     "end_time": "2024-06-21T19:12:58.900999",
     "exception": false,
     "start_time": "2024-06-21T19:12:58.845443",
     "status": "completed"
    },
    "tags": []
   },
   "source": [
    "<div style=\"border-radius:10px; padding: 12px; background-color: #f2f6fc; font-size:100%; text-align:left\">\n",
    "\n",
    "<h2 align=\"left\"><font color=#00a4f9> Final Words </font></h2>\n",
    "<p style=\"font-size:18px; font-family:verdana; line-height: 1.7em\">Since the Sentiment is imbalanced, and finding actual sentiment of the person is important,the metric to watch out for in this case can be F1 score which is nothing but the harmonic mean between precision and recall.</p>\n",
    "\n",
    "<p style=\"font-size:18px; font-family:verdana; line-height: 1.7em\">Precision and Recall are complementary metrics that have an inverse relationship. If both are of interest to us then we use the F1 score to combine precision and recall into a single metric.</p>"
   ]
  },
  {
   "cell_type": "markdown",
   "id": "a4b2d311",
   "metadata": {
    "papermill": {
     "duration": 0.0559,
     "end_time": "2024-06-21T19:12:59.012726",
     "exception": false,
     "start_time": "2024-06-21T19:12:58.956826",
     "status": "completed"
    },
    "tags": []
   },
   "source": [
    "<p style=\"font-size:16px; font-family:verdana\">Reference :\n",
    "    \n",
    " For ML [ Predicting Twitter Sentiments - (Top ML Models)](https://www.kaggle.com/code/yasserh/predicting-twitter-sentiments-top-ml-models)"
   ]
  }
 ],
 "metadata": {
  "kaggle": {
   "accelerator": "none",
   "dataSources": [
    {
     "datasetId": 2066095,
     "sourceId": 3428111,
     "sourceType": "datasetVersion"
    }
   ],
   "dockerImageVersionId": 30527,
   "isGpuEnabled": false,
   "isInternetEnabled": true,
   "language": "python",
   "sourceType": "notebook"
  },
  "kernelspec": {
   "display_name": "Python 3",
   "language": "python",
   "name": "python3"
  },
  "language_info": {
   "codemirror_mode": {
    "name": "ipython",
    "version": 3
   },
   "file_extension": ".py",
   "mimetype": "text/x-python",
   "name": "python",
   "nbconvert_exporter": "python",
   "pygments_lexer": "ipython3",
   "version": "3.10.12"
  },
  "papermill": {
   "default_parameters": {},
   "duration": 288.883859,
   "end_time": "2024-06-21T19:13:00.406789",
   "environment_variables": {},
   "exception": null,
   "input_path": "__notebook__.ipynb",
   "output_path": "__notebook__.ipynb",
   "parameters": {},
   "start_time": "2024-06-21T19:08:11.522930",
   "version": "2.4.0"
  }
 },
 "nbformat": 4,
 "nbformat_minor": 5
}
